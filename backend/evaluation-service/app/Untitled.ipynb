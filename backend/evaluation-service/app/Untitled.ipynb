{
 "cells": [
  {
   "cell_type": "code",
   "execution_count": 9,
   "id": "d8383732-c934-4a43-b3fe-4d1ec2a8c910",
   "metadata": {},
   "outputs": [
    {
     "name": "stdout",
     "output_type": "stream",
     "text": [
      "<class 'pandas.core.frame.DataFrame'>\n",
      "RangeIndex: 46606 entries, 0 to 46605\n",
      "Data columns (total 25 columns):\n",
      " #   Column                      Non-Null Count  Dtype  \n",
      "---  ------                      --------------  -----  \n",
      " 0   CI_Name                     46606 non-null  object \n",
      " 1   CI_Cat                      46495 non-null  object \n",
      " 2   CI_Subcat                   46495 non-null  object \n",
      " 3   WBS                         46606 non-null  object \n",
      " 4   Incident_ID                 46606 non-null  object \n",
      " 5   Status                      46606 non-null  object \n",
      " 6   Impact                      46606 non-null  object \n",
      " 7   Urgency                     46606 non-null  object \n",
      " 8   Priority                    45226 non-null  float64\n",
      " 9   number_cnt                  46606 non-null  float64\n",
      " 10  Category                    46606 non-null  object \n",
      " 11  KB_number                   46606 non-null  object \n",
      " 12  Alert_Status                46606 non-null  object \n",
      " 13  No_of_Reassignments         46605 non-null  float64\n",
      " 14  Open_Time                   46606 non-null  object \n",
      " 15  Reopen_Time                 2284 non-null   object \n",
      " 16  Resolved_Time               44826 non-null  object \n",
      " 17  Close_Time                  46606 non-null  object \n",
      " 18  Handle_Time_hrs             46605 non-null  object \n",
      " 19  Closure_Code                46146 non-null  object \n",
      " 20  No_of_Related_Interactions  46492 non-null  float64\n",
      " 21  Related_Interaction         46606 non-null  object \n",
      " 22  No_of_Related_Incidents     1222 non-null   float64\n",
      " 23  No_of_Related_Changes       560 non-null    float64\n",
      " 24  Related_Change              560 non-null    object \n",
      "dtypes: float64(6), object(19)\n",
      "memory usage: 8.9+ MB\n",
      "CI_Name                           0\n",
      "CI_Cat                          111\n",
      "CI_Subcat                       111\n",
      "WBS                               0\n",
      "Incident_ID                       0\n",
      "Status                            0\n",
      "Impact                            0\n",
      "Urgency                           0\n",
      "Priority                       1380\n",
      "number_cnt                        0\n",
      "Category                          0\n",
      "KB_number                         0\n",
      "Alert_Status                      0\n",
      "No_of_Reassignments               1\n",
      "Open_Time                         0\n",
      "Reopen_Time                   44322\n",
      "Resolved_Time                  1780\n",
      "Close_Time                        0\n",
      "Handle_Time_hrs                   1\n",
      "Closure_Code                    460\n",
      "No_of_Related_Interactions      114\n",
      "Related_Interaction               0\n",
      "No_of_Related_Incidents       45384\n",
      "No_of_Related_Changes         46046\n",
      "Related_Change                46046\n",
      "dtype: int64\n",
      "           Priority    number_cnt  No_of_Reassignments  \\\n",
      "count  45226.000000  46606.000000         46605.000000   \n",
      "mean       4.215805      0.499658             1.131831   \n",
      "std        0.705624      0.288634             2.269774   \n",
      "min        1.000000      0.000023             0.000000   \n",
      "25%        4.000000      0.248213             0.000000   \n",
      "50%        4.000000      0.500269             0.000000   \n",
      "75%        5.000000      0.749094             2.000000   \n",
      "max        5.000000      0.999997            46.000000   \n",
      "\n",
      "       No_of_Related_Interactions  No_of_Related_Incidents  \\\n",
      "count                46492.000000              1222.000000   \n",
      "mean                     1.149897                 1.669394   \n",
      "std                      2.556338                 3.339687   \n",
      "min                      1.000000                 1.000000   \n",
      "25%                      1.000000                 1.000000   \n",
      "50%                      1.000000                 1.000000   \n",
      "75%                      1.000000                 1.000000   \n",
      "max                    370.000000                63.000000   \n",
      "\n",
      "       No_of_Related_Changes  \n",
      "count             560.000000  \n",
      "mean                1.058929  \n",
      "std                 0.403596  \n",
      "min                 1.000000  \n",
      "25%                 1.000000  \n",
      "50%                 1.000000  \n",
      "75%                 1.000000  \n",
      "max                 9.000000  \n"
     ]
    },
    {
     "name": "stderr",
     "output_type": "stream",
     "text": [
      "C:\\Users\\Dell\\AppData\\Local\\Temp\\ipykernel_10880\\456206429.py:4: DtypeWarning: Columns (7) have mixed types. Specify dtype option on import or set low_memory=False.\n",
      "  dataset = pd.read_csv('ITSM_data.csv')\n"
     ]
    }
   ],
   "source": [
    "import pandas as pd\n",
    "\n",
    "# Charger le dataset depuis le répertoire actuel\n",
    "dataset = pd.read_csv('ITSM_data.csv')\n",
    "\n",
    "# Vérifier les premières lignes du dataset pour s'assurer qu'il est bien chargé\n",
    "dataset.head()\n",
    "\n",
    "# Vérifier les informations sur les colonnes et leur type\n",
    "dataset.info()\n",
    "\n",
    "# Vérifier les valeurs manquantes dans le dataset\n",
    "print(dataset.isnull().sum())\n",
    "\n",
    "# Afficher des statistiques descriptives\n",
    "print(dataset.describe())\n",
    "\n",
    "# Supprimer les colonnes avec un nombre excessif de valeurs manquantes\n",
    "dataset = dataset.drop(columns=['Reopen_Time', 'Resolved_Time', 'Related_Change', 'No_of_Related_Changes'])\n"
   ]
  },
  {
   "cell_type": "code",
   "execution_count": 14,
   "id": "f68cbba6-38f9-4c00-92b7-bdc1b1e0d04a",
   "metadata": {},
   "outputs": [
    {
     "name": "stdout",
     "output_type": "stream",
     "text": [
      "Index(['CI_Name', 'CI_Cat', 'CI_Subcat', 'WBS', 'Incident_ID', 'Status',\n",
      "       'Impact', 'Urgency', 'Priority', 'number_cnt', 'Category', 'KB_number',\n",
      "       'Alert_Status', 'No_of_Reassignments', 'Open_Time', 'Close_Time',\n",
      "       'Handle_Time_hrs', 'Closure_Code', 'No_of_Related_Interactions',\n",
      "       'Related_Interaction', 'No_of_Related_Incidents'],\n",
      "      dtype='object')\n"
     ]
    }
   ],
   "source": [
    "# Afficher tous les noms de colonnes pour vérifier leur exactitude\n",
    "print(dataset.columns)\n",
    "\n",
    "\n"
   ]
  },
  {
   "cell_type": "code",
   "execution_count": 15,
   "id": "5af7495c-bb33-4364-8008-ee82a0abc2a5",
   "metadata": {},
   "outputs": [
    {
     "name": "stdout",
     "output_type": "stream",
     "text": [
      "Index(['CI_Name', 'CI_Cat', 'CI_Subcat', 'WBS', 'Incident_ID', 'Status',\n",
      "       'Impact', 'Urgency', 'Priority', 'number_cnt', 'Category', 'KB_number',\n",
      "       'Alert_Status', 'No_of_Reassignments', 'Open_Time', 'Close_Time',\n",
      "       'Handle_Time_hrs', 'Closure_Code', 'No_of_Related_Interactions',\n",
      "       'Related_Interaction', 'No_of_Related_Incidents'],\n",
      "      dtype='object')\n"
     ]
    }
   ],
   "source": [
    "# Nettoyer les noms de colonnes pour supprimer les espaces\n",
    "dataset.columns = dataset.columns.str.strip()\n",
    "\n",
    "# Vérifier les noms de colonnes après nettoyage\n",
    "print(dataset.columns)\n"
   ]
  },
  {
   "cell_type": "code",
   "execution_count": 16,
   "id": "57475e5f-ba07-4714-90f4-c425b4634688",
   "metadata": {},
   "outputs": [
    {
     "data": {
      "text/html": [
       "<div>\n",
       "<style scoped>\n",
       "    .dataframe tbody tr th:only-of-type {\n",
       "        vertical-align: middle;\n",
       "    }\n",
       "\n",
       "    .dataframe tbody tr th {\n",
       "        vertical-align: top;\n",
       "    }\n",
       "\n",
       "    .dataframe thead th {\n",
       "        text-align: right;\n",
       "    }\n",
       "</style>\n",
       "<table border=\"1\" class=\"dataframe\">\n",
       "  <thead>\n",
       "    <tr style=\"text-align: right;\">\n",
       "      <th></th>\n",
       "      <th>CI_Name</th>\n",
       "      <th>CI_Cat</th>\n",
       "      <th>CI_Subcat</th>\n",
       "      <th>WBS</th>\n",
       "      <th>Incident_ID</th>\n",
       "      <th>Status</th>\n",
       "      <th>Impact</th>\n",
       "      <th>Urgency</th>\n",
       "      <th>Priority</th>\n",
       "      <th>number_cnt</th>\n",
       "      <th>...</th>\n",
       "      <th>KB_number</th>\n",
       "      <th>Alert_Status</th>\n",
       "      <th>No_of_Reassignments</th>\n",
       "      <th>Open_Time</th>\n",
       "      <th>Close_Time</th>\n",
       "      <th>Handle_Time_hrs</th>\n",
       "      <th>Closure_Code</th>\n",
       "      <th>No_of_Related_Interactions</th>\n",
       "      <th>Related_Interaction</th>\n",
       "      <th>No_of_Related_Incidents</th>\n",
       "    </tr>\n",
       "  </thead>\n",
       "  <tbody>\n",
       "    <tr>\n",
       "      <th>0</th>\n",
       "      <td>SUB000508</td>\n",
       "      <td>subapplication</td>\n",
       "      <td>Web Based Application</td>\n",
       "      <td>WBS000162</td>\n",
       "      <td>IM0000004</td>\n",
       "      <td>Closed</td>\n",
       "      <td>4</td>\n",
       "      <td>4</td>\n",
       "      <td>4.0</td>\n",
       "      <td>0.601292</td>\n",
       "      <td>...</td>\n",
       "      <td>KM0000553</td>\n",
       "      <td>closed</td>\n",
       "      <td>26.0</td>\n",
       "      <td>5/2/2012 13:32</td>\n",
       "      <td>4/11/2013 13:51</td>\n",
       "      <td>3,87,16,91,111</td>\n",
       "      <td>Other</td>\n",
       "      <td>1.0</td>\n",
       "      <td>SD0000007</td>\n",
       "      <td>2.0</td>\n",
       "    </tr>\n",
       "    <tr>\n",
       "      <th>1</th>\n",
       "      <td>WBA000124</td>\n",
       "      <td>application</td>\n",
       "      <td>Web Based Application</td>\n",
       "      <td>WBS000088</td>\n",
       "      <td>IM0000005</td>\n",
       "      <td>Closed</td>\n",
       "      <td>3</td>\n",
       "      <td>3</td>\n",
       "      <td>3.0</td>\n",
       "      <td>0.415050</td>\n",
       "      <td>...</td>\n",
       "      <td>KM0000611</td>\n",
       "      <td>closed</td>\n",
       "      <td>33.0</td>\n",
       "      <td>12/3/2012 15:44</td>\n",
       "      <td>2/12/2013 12:36</td>\n",
       "      <td>4,35,47,86,389</td>\n",
       "      <td>Software</td>\n",
       "      <td>1.0</td>\n",
       "      <td>SD0000011</td>\n",
       "      <td>1.0</td>\n",
       "    </tr>\n",
       "    <tr>\n",
       "      <th>2</th>\n",
       "      <td>DTA000024</td>\n",
       "      <td>application</td>\n",
       "      <td>Desktop Application</td>\n",
       "      <td>WBS000092</td>\n",
       "      <td>IM0000006</td>\n",
       "      <td>Closed</td>\n",
       "      <td>NS</td>\n",
       "      <td>3</td>\n",
       "      <td>NaN</td>\n",
       "      <td>0.517551</td>\n",
       "      <td>...</td>\n",
       "      <td>KM0000339</td>\n",
       "      <td>closed</td>\n",
       "      <td>3.0</td>\n",
       "      <td>29-03-2012 12:36</td>\n",
       "      <td>13-01-2014 15:13</td>\n",
       "      <td>4,84,31,19,444</td>\n",
       "      <td>No error - works as designed</td>\n",
       "      <td>1.0</td>\n",
       "      <td>SD0000017</td>\n",
       "      <td>NaN</td>\n",
       "    </tr>\n",
       "    <tr>\n",
       "      <th>3</th>\n",
       "      <td>WBA000124</td>\n",
       "      <td>application</td>\n",
       "      <td>Web Based Application</td>\n",
       "      <td>WBS000088</td>\n",
       "      <td>IM0000011</td>\n",
       "      <td>Closed</td>\n",
       "      <td>4</td>\n",
       "      <td>4</td>\n",
       "      <td>4.0</td>\n",
       "      <td>0.642927</td>\n",
       "      <td>...</td>\n",
       "      <td>KM0000611</td>\n",
       "      <td>closed</td>\n",
       "      <td>13.0</td>\n",
       "      <td>17-07-2012 11:49</td>\n",
       "      <td>14-11-2013 09:31</td>\n",
       "      <td>4,32,18,33,333</td>\n",
       "      <td>Operator error</td>\n",
       "      <td>1.0</td>\n",
       "      <td>SD0000025</td>\n",
       "      <td>NaN</td>\n",
       "    </tr>\n",
       "    <tr>\n",
       "      <th>4</th>\n",
       "      <td>WBA000124</td>\n",
       "      <td>application</td>\n",
       "      <td>Web Based Application</td>\n",
       "      <td>WBS000088</td>\n",
       "      <td>IM0000012</td>\n",
       "      <td>Closed</td>\n",
       "      <td>4</td>\n",
       "      <td>4</td>\n",
       "      <td>4.0</td>\n",
       "      <td>0.345258</td>\n",
       "      <td>...</td>\n",
       "      <td>KM0000611</td>\n",
       "      <td>closed</td>\n",
       "      <td>2.0</td>\n",
       "      <td>10/8/2012 11:01</td>\n",
       "      <td>8/11/2013 13:55</td>\n",
       "      <td>3,38,39,03,333</td>\n",
       "      <td>Other</td>\n",
       "      <td>1.0</td>\n",
       "      <td>SD0000029</td>\n",
       "      <td>NaN</td>\n",
       "    </tr>\n",
       "  </tbody>\n",
       "</table>\n",
       "<p>5 rows × 21 columns</p>\n",
       "</div>"
      ],
      "text/plain": [
       "     CI_Name          CI_Cat              CI_Subcat        WBS Incident_ID  \\\n",
       "0  SUB000508  subapplication  Web Based Application  WBS000162   IM0000004   \n",
       "1  WBA000124     application  Web Based Application  WBS000088   IM0000005   \n",
       "2  DTA000024     application    Desktop Application  WBS000092   IM0000006   \n",
       "3  WBA000124     application  Web Based Application  WBS000088   IM0000011   \n",
       "4  WBA000124     application  Web Based Application  WBS000088   IM0000012   \n",
       "\n",
       "   Status Impact Urgency  Priority  number_cnt  ...  KB_number Alert_Status  \\\n",
       "0  Closed      4       4       4.0    0.601292  ...  KM0000553       closed   \n",
       "1  Closed      3       3       3.0    0.415050  ...  KM0000611       closed   \n",
       "2  Closed     NS       3       NaN    0.517551  ...  KM0000339       closed   \n",
       "3  Closed      4       4       4.0    0.642927  ...  KM0000611       closed   \n",
       "4  Closed      4       4       4.0    0.345258  ...  KM0000611       closed   \n",
       "\n",
       "  No_of_Reassignments         Open_Time        Close_Time Handle_Time_hrs  \\\n",
       "0                26.0    5/2/2012 13:32   4/11/2013 13:51  3,87,16,91,111   \n",
       "1                33.0   12/3/2012 15:44   2/12/2013 12:36  4,35,47,86,389   \n",
       "2                 3.0  29-03-2012 12:36  13-01-2014 15:13  4,84,31,19,444   \n",
       "3                13.0  17-07-2012 11:49  14-11-2013 09:31  4,32,18,33,333   \n",
       "4                 2.0   10/8/2012 11:01   8/11/2013 13:55  3,38,39,03,333   \n",
       "\n",
       "                   Closure_Code No_of_Related_Interactions  \\\n",
       "0                         Other                        1.0   \n",
       "1                      Software                        1.0   \n",
       "2  No error - works as designed                        1.0   \n",
       "3                Operator error                        1.0   \n",
       "4                         Other                        1.0   \n",
       "\n",
       "   Related_Interaction No_of_Related_Incidents  \n",
       "0            SD0000007                     2.0  \n",
       "1            SD0000011                     1.0  \n",
       "2            SD0000017                     NaN  \n",
       "3            SD0000025                     NaN  \n",
       "4            SD0000029                     NaN  \n",
       "\n",
       "[5 rows x 21 columns]"
      ]
     },
     "execution_count": 16,
     "metadata": {},
     "output_type": "execute_result"
    }
   ],
   "source": [
    "# Liste des colonnes à supprimer\n",
    "columns_to_drop = ['Reopen_Time', 'Resolved_Time', 'Related_Change', 'No_of_Related_Changes']\n",
    "\n",
    "# Supprimer les colonnes seulement si elles existent dans le dataset\n",
    "dataset = dataset.drop(columns=[col for col in columns_to_drop if col in dataset.columns])\n",
    "\n",
    "# Afficher les premières lignes après suppression\n",
    "dataset.head()\n"
   ]
  },
  {
   "cell_type": "code",
   "execution_count": 18,
   "id": "2dd31867-6633-43c9-82d5-50706cec9616",
   "metadata": {},
   "outputs": [
    {
     "name": "stdout",
     "output_type": "stream",
     "text": [
      "CI_Name                           0\n",
      "CI_Cat                            0\n",
      "CI_Subcat                         0\n",
      "WBS                               0\n",
      "Incident_ID                       0\n",
      "Status                            0\n",
      "Impact                            0\n",
      "Urgency                           0\n",
      "Priority                          0\n",
      "number_cnt                        0\n",
      "Category                          0\n",
      "KB_number                         0\n",
      "Alert_Status                      0\n",
      "No_of_Reassignments               1\n",
      "Open_Time                         0\n",
      "Close_Time                        0\n",
      "Handle_Time_hrs                   1\n",
      "Closure_Code                    460\n",
      "No_of_Related_Interactions      114\n",
      "Related_Interaction               0\n",
      "No_of_Related_Incidents       45384\n",
      "dtype: int64\n"
     ]
    }
   ],
   "source": [
    "\n",
    "# Imputation des valeurs manquantes pour les colonnes numériques (par exemple, 'Priority')\n",
    "dataset['Priority'] = dataset['Priority'].fillna(dataset['Priority'].median())\n",
    "\n",
    "# Imputation des valeurs manquantes pour les colonnes catégorielles (par exemple, 'CI_Cat' et 'CI_Subcat')\n",
    "dataset['CI_Cat'] = dataset['CI_Cat'].fillna('Inconnu')\n",
    "dataset['CI_Subcat'] = dataset['CI_Subcat'].fillna('Inconnu')\n",
    "\n",
    "# Vérifier les valeurs manquantes après imputation\n",
    "print(dataset.isnull().sum())\n",
    "\n"
   ]
  },
  {
   "cell_type": "code",
   "execution_count": 19,
   "id": "7117a135-5895-4253-b4c6-491333bba672",
   "metadata": {},
   "outputs": [],
   "source": [
    "# Imputation des valeurs manquantes pour 'No_of_Reassignments' et 'Handle_Time_hrs'\n",
    "dataset['No_of_Reassignments'] = dataset['No_of_Reassignments'].fillna(0)\n",
    "dataset['Handle_Time_hrs'] = dataset['Handle_Time_hrs'].fillna(0)\n"
   ]
  },
  {
   "cell_type": "code",
   "execution_count": 20,
   "id": "3933a5ba-22c1-40e9-9e7d-c654ce608a68",
   "metadata": {},
   "outputs": [],
   "source": [
    "# Imputation de 'Closure_Code' avec la valeur la plus fréquente (mode)\n",
    "dataset['Closure_Code'] = dataset['Closure_Code'].fillna(dataset['Closure_Code'].mode()[0])\n"
   ]
  },
  {
   "cell_type": "code",
   "execution_count": 21,
   "id": "6f7e5ddf-fe71-4d5e-8655-816c5ea23037",
   "metadata": {},
   "outputs": [],
   "source": [
    "# Imputation des valeurs manquantes pour 'No_of_Related_Interactions' avec la médiane\n",
    "dataset['No_of_Related_Interactions'] = dataset['No_of_Related_Interactions'].fillna(dataset['No_of_Related_Interactions'].median())\n"
   ]
  },
  {
   "cell_type": "code",
   "execution_count": 22,
   "id": "a6a7ea5d-6058-4494-8b83-662ffdb5de2e",
   "metadata": {},
   "outputs": [],
   "source": [
    "# Imputation des valeurs manquantes pour 'No_of_Related_Incidents' avec 0 (ou une autre valeur logique)\n",
    "dataset['No_of_Related_Incidents'] = dataset['No_of_Related_Incidents'].fillna(0)\n"
   ]
  },
  {
   "cell_type": "code",
   "execution_count": 23,
   "id": "5a5682ed-22ff-400e-b939-3a0e3de84255",
   "metadata": {},
   "outputs": [
    {
     "name": "stdout",
     "output_type": "stream",
     "text": [
      "CI_Name                       0\n",
      "CI_Cat                        0\n",
      "CI_Subcat                     0\n",
      "WBS                           0\n",
      "Incident_ID                   0\n",
      "Status                        0\n",
      "Impact                        0\n",
      "Urgency                       0\n",
      "Priority                      0\n",
      "number_cnt                    0\n",
      "Category                      0\n",
      "KB_number                     0\n",
      "Alert_Status                  0\n",
      "No_of_Reassignments           0\n",
      "Open_Time                     0\n",
      "Close_Time                    0\n",
      "Handle_Time_hrs               0\n",
      "Closure_Code                  0\n",
      "No_of_Related_Interactions    0\n",
      "Related_Interaction           0\n",
      "No_of_Related_Incidents       0\n",
      "dtype: int64\n"
     ]
    }
   ],
   "source": [
    "# Vérifier les valeurs manquantes après imputation\n",
    "print(dataset.isnull().sum())\n"
   ]
  },
  {
   "cell_type": "code",
   "execution_count": 28,
   "id": "7110c8b7-5b27-4791-b419-4ce88c9000df",
   "metadata": {},
   "outputs": [
    {
     "name": "stdout",
     "output_type": "stream",
     "text": [
      "            Open_Time          Close_Time\n",
      "0 2012-05-02 13:32:00 2013-04-11 13:51:00\n",
      "1 2012-12-03 15:44:00 2013-02-12 12:36:00\n",
      "4 2012-10-08 11:01:00 2013-08-11 13:55:00\n",
      "5 2012-10-08 11:27:00 2013-08-11 13:54:00\n",
      "9 2012-03-09 16:04:00 2013-08-11 14:35:00\n"
     ]
    }
   ],
   "source": [
    "# Convertir les colonnes 'Open_Time' et 'Close_Time' en format datetime\n",
    "dataset['Open_Time'] = pd.to_datetime(dataset['Open_Time'], errors='coerce')\n",
    "dataset['Close_Time'] = pd.to_datetime(dataset['Close_Time'], errors='coerce')\n",
    "\n",
    "\n",
    "\n",
    "# Supprimer les lignes où 'Open_Time' ou 'Close_Time' sont NaT\n",
    "dataset = dataset.dropna(subset=['Open_Time', 'Close_Time'])\n",
    "\n",
    "# Vérifier après suppression\n",
    "print(dataset[['Open_Time', 'Close_Time']].head())\n",
    "\n"
   ]
  },
  {
   "cell_type": "code",
   "execution_count": 29,
   "id": "9d4350a9-c1b5-477c-826b-0a49c5b83cc0",
   "metadata": {},
   "outputs": [
    {
     "name": "stdout",
     "output_type": "stream",
     "text": [
      "            Open_Time          Close_Time  Handling_Time\n",
      "0 2012-05-02 13:32:00 2013-04-11 13:51:00    8256.316667\n",
      "1 2012-12-03 15:44:00 2013-02-12 12:36:00    1700.866667\n",
      "4 2012-10-08 11:01:00 2013-08-11 13:55:00    7370.900000\n",
      "5 2012-10-08 11:27:00 2013-08-11 13:54:00    7370.450000\n",
      "9 2012-03-09 16:04:00 2013-08-11 14:35:00   12478.516667\n"
     ]
    }
   ],
   "source": [
    "# Calculer le temps de gestion en heures\n",
    "dataset['Handling_Time'] = (dataset['Close_Time'] - dataset['Open_Time']).dt.total_seconds() / 3600\n",
    "\n",
    "# Vérifier la nouvelle colonne\n",
    "print(dataset[['Open_Time', 'Close_Time', 'Handling_Time']].head())\n"
   ]
  },
  {
   "cell_type": "code",
   "execution_count": 30,
   "id": "e1ce54dd-d80e-4b0f-9ae3-a17aa15fc42c",
   "metadata": {},
   "outputs": [
    {
     "name": "stdout",
     "output_type": "stream",
     "text": [
      "           Close_Time  time_since_last_update\n",
      "0 2013-04-11 13:51:00                    4391\n",
      "1 2013-02-12 12:36:00                    4449\n",
      "4 2013-08-11 13:55:00                    4269\n",
      "5 2013-08-11 13:54:00                    4269\n",
      "9 2013-08-11 14:35:00                    4269\n"
     ]
    }
   ],
   "source": [
    "# Calculer le temps d'obsolescence en jours\n",
    "dataset['time_since_last_update'] = (pd.to_datetime('today') - dataset['Close_Time']).dt.days\n",
    "\n",
    "# Vérifier la nouvelle colonne\n",
    "print(dataset[['Close_Time', 'time_since_last_update']].head())\n"
   ]
  },
  {
   "cell_type": "code",
   "execution_count": 31,
   "id": "e97c4227-0891-4d93-9a08-bc8c189110da",
   "metadata": {},
   "outputs": [
    {
     "name": "stdout",
     "output_type": "stream",
     "text": [
      "  Impact gravité\n",
      "0      4   Basse\n",
      "1      3   Basse\n",
      "4      4   Basse\n",
      "5      4   Basse\n",
      "9      4   Basse\n"
     ]
    }
   ],
   "source": [
    "# Ajouter une colonne 'gravité' basée sur 'Impact'\n",
    "dataset['gravité'] = dataset['Impact'].apply(lambda x: 'Haute' if x == 'High' else 'Basse')\n",
    "\n",
    "# Vérifier la nouvelle colonne\n",
    "print(dataset[['Impact', 'gravité']].head())\n"
   ]
  },
  {
   "cell_type": "code",
   "execution_count": 32,
   "id": "3429d6ba-6aa2-4eeb-9944-dccbbd7108bc",
   "metadata": {},
   "outputs": [
    {
     "name": "stdout",
     "output_type": "stream",
     "text": [
      "     CI_Name  obsolescence_score\n",
      "0  SUB000508           70.983565\n",
      "1  WBA000124           54.163775\n",
      "4  WBA000124           67.263396\n",
      "5  WBA000124           67.262197\n",
      "9  WBA000082           80.872506\n"
     ]
    }
   ],
   "source": [
    "# Calculer un score d'obsolescence simple basé sur le temps d'obsolescence et le nombre d'incidents\n",
    "dataset['obsolescence_score'] = (dataset['time_since_last_update'] / dataset['time_since_last_update'].max()) * 50 + (dataset['Handling_Time'] / dataset['Handling_Time'].max()) * 50\n",
    "\n",
    "# Vérifier les premières lignes après le calcul du score d'obsolescence\n",
    "print(dataset[['CI_Name', 'obsolescence_score']].head())\n"
   ]
  },
  {
   "cell_type": "code",
   "execution_count": 33,
   "id": "1fd397f5-eecc-48e1-8d7e-bf1246dee6a0",
   "metadata": {},
   "outputs": [
    {
     "name": "stdout",
     "output_type": "stream",
     "text": [
      "         CI_Name  obsolescence_score\n",
      "12     WBA000082           95.013387\n",
      "11     WBA000124           84.658811\n",
      "10000  SUB000508           83.127333\n",
      "17944  SBA000834           81.156457\n",
      "18279  WBA000106           81.074845\n",
      "9      WBA000082           80.872506\n",
      "328    WBA000124           78.874431\n",
      "65     WBA000124           78.175557\n",
      "18611  SBA000729           77.704433\n",
      "18695  DTA000031           77.692976\n"
     ]
    }
   ],
   "source": [
    "# Trier les données en fonction du score d'obsolescence (du plus élevé au plus bas)\n",
    "dataset_sorted = dataset.sort_values(by='obsolescence_score', ascending=False)\n",
    "\n",
    "# Afficher les 10 tickets les plus obsolètes\n",
    "print(dataset_sorted[['CI_Name', 'obsolescence_score']].head(10))\n"
   ]
  },
  {
   "cell_type": "code",
   "execution_count": 34,
   "id": "aa8cf88e-3cc7-4b46-8c16-89480472c6ed",
   "metadata": {},
   "outputs": [
    {
     "name": "stdout",
     "output_type": "stream",
     "text": [
      "      CI_Name  obsolescence_score\n",
      "0   SUB000508           70.983565\n",
      "9   WBA000082           80.872506\n",
      "11  WBA000124           84.658811\n",
      "12  WBA000082           95.013387\n",
      "65  WBA000124           78.175557\n"
     ]
    }
   ],
   "source": [
    "# Filtrer les documents dont le score d'obsolescence est supérieur à 70\n",
    "documents_to_review = dataset[dataset['obsolescence_score'] > 70]\n",
    "\n",
    "# Afficher les documents à réviser\n",
    "print(documents_to_review[['CI_Name', 'obsolescence_score']].head())\n"
   ]
  },
  {
   "cell_type": "code",
   "execution_count": 35,
   "id": "81a8c914-5418-4095-8180-47efec1a2888",
   "metadata": {},
   "outputs": [],
   "source": [
    "# Exporter les documents à réviser dans un fichier CSV\n",
    "documents_to_review.to_csv('documents_to_review.csv', index=False)\n"
   ]
  },
  {
   "cell_type": "code",
   "execution_count": null,
   "id": "8f87d27c-23d4-4ccd-b2b9-2228d81d6cbf",
   "metadata": {},
   "outputs": [],
   "source": []
  }
 ],
 "metadata": {
  "kernelspec": {
   "display_name": "Python 3 (ipykernel)",
   "language": "python",
   "name": "python3"
  },
  "language_info": {
   "codemirror_mode": {
    "name": "ipython",
    "version": 3
   },
   "file_extension": ".py",
   "mimetype": "text/x-python",
   "name": "python",
   "nbconvert_exporter": "python",
   "pygments_lexer": "ipython3",
   "version": "3.12.2"
  }
 },
 "nbformat": 4,
 "nbformat_minor": 5
}
